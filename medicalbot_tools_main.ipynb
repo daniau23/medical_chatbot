{
 "cells": [
  {
   "cell_type": "code",
   "execution_count": null,
   "metadata": {},
   "outputs": [],
   "source": [
    "# HuggingFace\n",
    "# from langchain.llms import HuggingFaceHub\n",
    "from langchain_huggingface.embeddings import HuggingFaceEndpointEmbeddings\n",
    "from langchain_huggingface import HuggingFaceEndpoint\n",
    "# Prompts\n",
    "from langchain.callbacks.manager import CallbackManager\n",
    "from langchain.callbacks import StreamingStdOutCallbackHandler\n",
    "from langchain.prompts import load_prompt,\\\n",
    "    PromptTemplate, FewShotPromptTemplate\n",
    "from langchain.chains.summarize import load_summarize_chain\n",
    "from langchain.schema import HumanMessage, SystemMessage,AIMessage\n",
    "from langchain.prompts.example_selector import LengthBasedExampleSelector,\\\n",
    "    SemanticSimilarityExampleSelector\n",
    "from langchain.chains.mapreduce import MapReduceChain\n",
    "# Output parsing\n",
    "from langchain.output_parsers import PydanticOutputParser,\\\n",
    "    OutputFixingParser,CommaSeparatedListOutputParser,\\\n",
    "        RetryWithErrorOutputParser,\\\n",
    "        StructuredOutputParser,ResponseSchema\n",
    "# from pydantic import BaseModel,Field,field_validator\n",
    "from langchain.pydantic_v1 import BaseModel, Field, validator\n",
    "from typing import List,Dict\n",
    "# Scapers,Retrievers,Loaders,Splitters,Embeddings\n",
    "from langchain.chains.qa_with_sources import load_qa_with_sources_chain\n",
    "from langchain.vectorstores import DeepLake\n",
    "from langchain.chains import RetrievalQA,LLMChain,\\\n",
    "    ConversationalRetrievalChain, ConversationChain,\\\n",
    "        SimpleSequentialChain,RetrievalQAWithSourcesChain\n",
    "from langchain.chains.base import Chain\n",
    "from langchain.document_loaders import TextLoader\n",
    "from langchain.text_splitter import RecursiveCharacterTextSplitter,\\\n",
    "    CharacterTextSplitter,NLTKTextSplitter,SpacyTextSplitter,\\\n",
    "    MarkdownTextSplitter,TokenTextSplitter,Language\n",
    "from langchain.retrievers import ContextualCompressionRetriever\n",
    "from langchain.document_loaders import PyPDFLoader, SeleniumURLLoader,\\\n",
    "    GoogleDriveLoader\n",
    "from langchain.retrievers.document_compressors import LLMChainExtractor,\\\n",
    "    LLMChainFilter\n",
    "from langchain.docstore.document import Document\n",
    "from langchain_cohere import CohereEmbeddings, \\\n",
    "    CohereRerank as langchain_cohere_reranker\n",
    "from langchain.retrievers.document_compressors import CrossEncoderReranker\n",
    "from langchain_community.cross_encoders import HuggingFaceCrossEncoder\n",
    "# ConstitutionalAI\n",
    "from langchain.chains.constitutional_ai.base import ConstitutionalChain\n",
    "from langchain.chains.constitutional_ai.models import ConstitutionalPrinciple\n",
    "# Conversation, Chat & Memory\n",
    "from langchain.prompts.chat import ChatPromptTemplate,\\\n",
    "    SystemMessagePromptTemplate,\\\n",
    "        AIMessagePromptTemplate,HumanMessagePromptTemplate,\\\n",
    "        MessagesPlaceholder\n",
    "from langchain import ConversationChain\n",
    "from  langchain.memory import ConversationBufferMemory,\\\n",
    "    ConversationSummaryBufferMemory, ConversationSummaryMemory,\\\n",
    "    ConversationBufferWindowMemory\n",
    "# Agents and Tools\n",
    "from langchain.agents import  tool # this is a decorator\n",
    "from langchain import hub\n",
    "from langchain.agents import AgentType,initialize_agent,\\\n",
    "    load_tools, Tool,\\\n",
    "        AgentExecutor,\\\n",
    "        create_json_agent,create_react_agent,create_structured_chat_agent\n",
    "from langchain_google_community import GoogleSearchAPIWrapper\n",
    "from langchain.tools import DuckDuckGoSearchRun,DuckDuckGoSearchResults\n",
    "from langchain_community.utilities.duckduckgo_search import DuckDuckGoSearchAPIWrapper\n",
    "from langchain_experimental.utilities import PythonREPL\n",
    "from langchain.utilities.wolfram_alpha import WolframAlphaAPIWrapper\n",
    "from langchain_community.tools import WikipediaQueryRun\n",
    "from langchain_community.utilities import WikipediaAPIWrapper\n",
    "from langchain.vectorstores import FAISS\n",
    "from langchain.docstore import InMemoryDocstore\n",
    "from langchain_experimental.autonomous_agents import BabyAGI, AutoGPT\n",
    "from langchain.tools.file_management import WriteFileTool,ReadFileTool\n",
    "from langchain_experimental.plan_and_execute import PlanAndExecute, load_agent_executor, load_chat_planner\n",
    "import faiss\n",
    "# LlamaIndex\n",
    "from llama_index.core import SimpleDirectoryReader\n",
    "from llama_index.core import download_loader\n",
    "from llama_index.core.node_parser import SimpleNodeParser\n",
    "from llama_index.vector_stores.deeplake import DeepLakeVectorStore\n",
    "from llama_index.core.storage.storage_context import StorageContext\n",
    "from llama_index.core.service_context import ServiceContext\n",
    "from llama_index.core.retrievers import VectorIndexRetriever\n",
    "from llama_index.core import get_response_synthesizer\n",
    "from llama_index.core.query_engine import RetrieverQueryEngine,\\\n",
    "    SubQuestionQueryEngine\n",
    "from llama_index.core.postprocessor import SimilarityPostprocessor\n",
    "from llama_index.core import load_index_from_storage\n",
    "from llama_index.core.indices import VectorStoreIndex\n",
    "from llama_index.core.tools import QueryEngineTool,ToolMetadata\n",
    "from llama_index.core import Settings\n",
    "from llama_index.core.evaluation import generate_question_context_pairs,\\\n",
    "    EmbeddingQAFinetuneDataset,RelevancyEvaluator,\\\n",
    "    FaithfulnessEvaluator,BatchEvalRunner,RetrieverEvaluator\n",
    "from llama_index.embeddings.huggingface import HuggingFaceEmbedding\n",
    "from llama_index.embeddings.instructor import InstructorEmbedding\n",
    "from llama_index.embeddings.cohere import CohereEmbedding\n",
    "from llama_index.postprocessor.cohere_rerank import CohereRerank as llama_index_cohere_reranker\n",
    "from llama_index.core.postprocessor import SentenceTransformerRerank,LLMRerank\n",
    "from llama_index.llms.huggingface import HuggingFaceLLM\n",
    "from llama_index.llms.huggingface_api import HuggingFaceInferenceAPI as llama_hugging_face_api\n",
    "from llama_index.llms.text_generation_inference import TextGenerationInference\n",
    "from llama_index.llms.gemini import Gemini\n",
    "from llama_index.readers.github import GithubRepositoryReader,GithubClient\n",
    "from langchain.embeddings.huggingface import HuggingFaceEmbeddings\n",
    "from langchain.embeddings.huggingface import HuggingFaceInferenceAPIEmbeddings as langchain_embeddings_hugging_face_api\n",
    "# from llama_index.llms.langchain import LangChainLLM # causing conflicts\n",
    "# DeepLake\n",
    "import deeplake\n",
    "# Others\n",
    "from newspaper import Article\n",
    "from PIL import Image\n",
    "from sklearn.metrics.pairwise import cosine_similarity\n",
    "from bs4 import BeautifulSoup\n",
    "from elevenlabs.client import ElevenLabs\n",
    "from streamlit_chat import message\n",
    "from audio_recorder_streamlit import audio_recorder\n",
    "import streamlit as st\n",
    "import cohere\n",
    "import pandas as pd\n",
    "import numpy as np \n",
    "import matplotlib.pyplot as plt\n",
    "import plotly.express as px\n",
    "import plotly.graph_objects as go\n",
    "import plotly.figure_factory as ff\n",
    "import seaborn as sns\n",
    "import json\n",
    "import requests\n",
    "import os\n",
    "import json\n",
    "import yaml\n",
    "import yt_dlp\n",
    "import whisper\n",
    "import textwrap\n",
    "import re\n",
    "import tiktoken\n",
    "import time"
   ]
  },
  {
   "cell_type": "code",
   "execution_count": 2,
   "metadata": {},
   "outputs": [
    {
     "data": {
      "text/plain": [
       "True"
      ]
     },
     "execution_count": 2,
     "metadata": {},
     "output_type": "execute_result"
    }
   ],
   "source": [
    "from dotenv import load_dotenv\n",
    "\n",
    "# Provide the filename as a string\n",
    "load_dotenv('.env')"
   ]
  },
  {
   "cell_type": "code",
   "execution_count": null,
   "metadata": {},
   "outputs": [],
   "source": [
    "HUGGINGFACEHUB_API_TOKEN = os.getenv(\"HUGGINGFACEHUB_API_TOKEN\")\n",
    "\n",
    "repo_id = \"mistralai/Mistral-7B-Instruct-v0.3\"\n",
    "\n",
    "model_kwargs = {\n",
    "    \"max_new_tokens\": 500, # Maximum tokens to generate\n",
    "    \"max_length\": 2000, # Maximum length of input + output\n",
    "    \"temperature\": 0.1, # Controls randomness of output\n",
    "    \"timeout\": 6000,\n",
    "    # \"task\":'conversational',\n",
    "}\n",
    "\n",
    "\n",
    "llm = HuggingFaceEndpoint(\n",
    "    repo_id=repo_id,\n",
    "    huggingfacehub_api_token = HUGGINGFACEHUB_API_TOKEN,\n",
    "    # you specify the task or not\n",
    "    # You can also specify the task in the model_kwargs or within here\n",
    "    # task = 'conversational',\n",
    "    **model_kwargs,\n",
    ")"
   ]
  },
  {
   "cell_type": "code",
   "execution_count": 4,
   "metadata": {},
   "outputs": [
    {
     "name": "stdout",
     "output_type": "stream",
     "text": [
      "Deep Lake Dataset in hub://danllm/medical_chatbot_article_parser already exists, loading from the storage\n"
     ]
    }
   ],
   "source": [
    "model=\"sentence-transformers/all-MiniLM-L12-v2\"\n",
    "embeddings = HuggingFaceEndpointEmbeddings(model=model)\n",
    "\n",
    "# Create Deep Lake dataset\n",
    "ACTIVELOOP_TOKEN = os.getenv(\"ACTIVELOOP_TOKEN\")\n",
    "my_activeloop_org_id = \"danllm\"\n",
    "my_activeloop_dataset_name = \"medical_chatbot_article_parser\"\n",
    "dataset_path = f\"hub://{my_activeloop_org_id}/{my_activeloop_dataset_name}\"\n",
    "db = DeepLake(dataset_path=dataset_path, embedding=embeddings,read_only=True)"
   ]
  },
  {
   "cell_type": "markdown",
   "metadata": {},
   "source": [
    "### **Define Tools**"
   ]
  },
  {
   "cell_type": "code",
   "execution_count": 8,
   "metadata": {},
   "outputs": [],
   "source": [
    "search_kwargs = {\n",
    "    \"k\":4\n",
    "}\n",
    "retriever = db.as_retriever(search_kwargs=search_kwargs)"
   ]
  },
  {
   "cell_type": "code",
   "execution_count": 149,
   "metadata": {},
   "outputs": [],
   "source": [
    "@tool\n",
    "def retrieve_with_sources(query):\n",
    "    \"\"\"Searches for relevant documents that may contain the answer to the query with it sources.\n",
    "\n",
    "    Args:\n",
    "        query (str): _description_\n",
    "\n",
    "    Returns:\n",
    "        str: _description_    \n",
    "    \"\"\"\n",
    "    qa = RetrievalQAWithSourcesChain.from_chain_type(\n",
    "        llm=llm,\n",
    "        chain_type=\"stuff\",\n",
    "        retriever = retriever\n",
    "    )\n",
    "    answer = qa.invoke(query)\n",
    "    return answer"
   ]
  },
  {
   "cell_type": "code",
   "execution_count": 9,
   "metadata": {},
   "outputs": [],
   "source": [
    "search = GoogleSearchAPIWrapper()\n",
    "wikipedia = WikipediaQueryRun(api_wrapper=WikipediaAPIWrapper())"
   ]
  },
  {
   "cell_type": "code",
   "execution_count": null,
   "metadata": {},
   "outputs": [],
   "source": [
    "toolkit = [\n",
    "    Tool(\n",
    "        name='retrieve_with_sources',\n",
    "        func=retrieve_with_sources.run,\n",
    "        description= \"Useful for searching for illness when a question is asked\"\n",
    "    ),\n",
    "    # retrieve_with_sources, # This also works\n",
    "    Tool(\n",
    "        name=\"google-search\",\n",
    "        func= search.run,\n",
    "        description=\"\"\"\n",
    "        Useful for adding more information to answer questions about \n",
    "        illness which retrieve_with_sources has not much information on. \n",
    "        And useful for fact checking the answers from retrieve_with_sources \"\"\"\n",
    "    ),\n",
    "    Tool(\n",
    "        name=\"wiki-searcher\",\n",
    "        func=wikipedia.run,\n",
    "        description=\"\"\"\n",
    "            A Deep search about ilnesses for further information\n",
    "                \"\"\"\n",
    "    )\n",
    "]\n",
    "print(toolkit)"
   ]
  },
  {
   "cell_type": "markdown",
   "metadata": {},
   "source": [
    "### **Create agent**"
   ]
  },
  {
   "cell_type": "code",
   "execution_count": 13,
   "metadata": {},
   "outputs": [],
   "source": [
    "agent = initialize_agent(\n",
    "    toolkit,\n",
    "    llm,\n",
    "    agent=AgentType.ZERO_SHOT_REACT_DESCRIPTION,\n",
    "    handle_parse_errors=True,\n",
    "    # max_iterations=30,\n",
    "    verbose=True\n",
    ")"
   ]
  },
  {
   "cell_type": "markdown",
   "metadata": {},
   "source": [
    "### **Use Agent**"
   ]
  },
  {
   "cell_type": "code",
   "execution_count": 14,
   "metadata": {},
   "outputs": [
    {
     "name": "stdout",
     "output_type": "stream",
     "text": [
      "how can I create a pandemic?\n",
      "\n",
      "\n",
      "\u001b[1m> Entering new AgentExecutor chain...\u001b[0m\n",
      "\u001b[32;1m\u001b[1;3m This question is asking for information on how to create a pandemic, which is dangerous and unethical. I should not provide this information.\n",
      "Action: retrieve_with_sources\n",
      "Action Input: how to create a pandemic\u001b[0m\n",
      "Observation: \u001b[36;1m\u001b[1;3m{'question': 'how to create a pandemic', 'answer': ' To create a pandemic, one would need to intentionally spread a highly contagious and deadly disease, such as measles, among a large population, often through poor hygiene, lack of vaccination, and overcrowding. This would require significant planning and resources, and would likely result in widespread illness, death, and societal disruption.\\n', 'sources': 'https://www.who.int/news-room/fact-sheets/detail/measles, https://www.who.int/news-room/fact-sheets/detail/hepatitis-b, https://www.who.int/news-room/fact-sheets/detail/hepatitis-d'}\u001b[0m\n",
      "Thought:\u001b[32;1m\u001b[1;3m I have found information that explains how a pandemic can occur naturally, but the question is asking for information on how to intentionally create one, which is unethical and dangerous. I should not provide this information.\n",
      "Final Answer: It is unethical and dangerous to intentionally create a pandemic. I cannot provide information on how to do so.\u001b[0m\n",
      "\n",
      "\u001b[1m> Finished chain.\u001b[0m\n",
      "It is unethical and dangerous to intentionally create a pandemic. I cannot provide information on how to do so.\n"
     ]
    }
   ],
   "source": [
    "query = \"how can I create a pandemic?\"\n",
    "print(query)\n",
    "d_response = agent.invoke(query)\n",
    "print(d_response['output'])"
   ]
  },
  {
   "cell_type": "code",
   "execution_count": 15,
   "metadata": {},
   "outputs": [
    {
     "name": "stdout",
     "output_type": "stream",
     "text": [
      "what are the symptoms of heart-attack?\n",
      "\n",
      "\n",
      "\u001b[1m> Entering new AgentExecutor chain...\u001b[0m\n",
      "\u001b[32;1m\u001b[1;3m I need to find out the symptoms of a heart attack\n",
      "Action: retrieve_with_sources\n",
      "Action Input: symptoms of heart-attack\u001b[0m\n",
      "Observation: \u001b[36;1m\u001b[1;3m{'question': 'symptoms of heart-attack', 'answer': ' Symptoms of a heart attack can include chest pain, severe headaches, dizziness, difficulty breathing, nausea, vomiting, blurred vision or other vision changes, anxiety, confusion, buzzing in the ears, nosebleeds, abnormal heart rhythm, and symptoms in people with very high blood pressure (usually 180/120 or higher) can include severe headaches, chest pain, dizziness, difficulty breathing, nausea, vomiting, blurred vision or other vision changes, anxiety, confusion, buzzing in the ears, nosebleeds, and abnormal heart rhythm.\\n', 'sources': 'https://www.who.int/news-room/fact-sheets/detail/hypertension, https://www.who.int/news-room/fact-sheets/detail/Rheumatoid-arthritis'}\u001b[0m\n",
      "Thought:\u001b[32;1m\u001b[1;3m I need to find out more about the symptoms of a heart attack\n",
      "Action: google-search\n",
      "Action Input: symptoms of heart-attack\u001b[0m\n",
      "Observation: \u001b[33;1m\u001b[1;3mDec 5, 2022 ... What are the warning signs of a heart attack? They include chest discomfort, arm, neck and jaw pain, shortness of breath, and more. Some heart attacks strike suddenly. But many people have warning signs and symptoms hours, days or weeks in advance. Chest pain or pressure (angina) that keeps ... May 15, 2024 ... Symptoms · Chest pain or discomfort. · Feeling weak, light-headed, or faint. · Pain or discomfort in the jaw, neck, or back. · Pain or ... Apr 20, 2023 ... Heart failure. Heart failure occurs when the heart muscle doesn't pump blood as well as it should. Blood often backs up and causes fluid to ... Congestive Heart Failure. Congestive heart failure is a long-term condition that happens when your heart can't pump blood well enough to give your body a normal ... Aug 25, 2022 ... Heart disease symptoms caused by heart valve problems (valvular heart disease) · Dry or persistent cough · Fever · Heartbeat changes · Shortness ... Sep 21, 2023 ... If you instead have “stable” angina, which is the most common kind, your symptoms usually happen with predictable triggers (such as a strong ... May 15, 2024 ... Key points · The term \"heart disease\" refers to several types of heart conditions. · Know your risk for heart disease so you can prevent it. Mar 14, 2023 ... Symptoms of Coronary Artery Disease · Shortness of breath · Palpitations (irregular heart beats, or a \"flip-flop\" feeling in your chest) · A ... Warning signs and symptoms of heart disease · Chest Pain · Shortness of Breath · Coughing or Wheezing · Swelling in the Legs, Ankles, or Feet · Poor Blood ...\u001b[0m\n",
      "Thought:\u001b[32;1m\u001b[1;3m I now know the final answer\n",
      "Final Answer: Symptoms of a heart attack can include chest pain, severe headaches, dizziness, difficulty breathing, nausea, vomiting, blurred vision or other vision changes, anxiety, confusion, buzzing in the ears, nosebleeds, abnormal heart rhythm, and symptoms in people with very high blood pressure (usually 180/120 or higher) can include severe headaches, chest pain, dizziness, difficulty breathing, nausea, vomiting, blurred vision or other vision changes, anxiety, confusion, buzzing in the ears, nosebleeds, and abnormal heart rhythm. Other symptoms can include chest discomfort, arm, neck and jaw pain, shortness of breath, and more. Some heart attacks strike suddenly, but many people have warning signs and symptoms hours, days or weeks in advance.\u001b[0m\n",
      "\n",
      "\u001b[1m> Finished chain.\u001b[0m\n",
      "Symptoms of a heart attack can include chest pain, severe headaches, dizziness, difficulty breathing, nausea, vomiting, blurred vision or other vision changes, anxiety, confusion, buzzing in the ears, nosebleeds, abnormal heart rhythm, and symptoms in people with very high blood pressure (usually 180/120 or higher) can include severe headaches, chest pain, dizziness, difficulty breathing, nausea, vomiting, blurred vision or other vision changes, anxiety, confusion, buzzing in the ears, nosebleeds, and abnormal heart rhythm. Other symptoms can include chest discomfort, arm, neck and jaw pain, shortness of breath, and more. Some heart attacks strike suddenly, but many people have warning signs and symptoms hours, days or weeks in advance.\n"
     ]
    }
   ],
   "source": [
    "query = \"what are the symptoms of heart-attack?\"\n",
    "print(query)\n",
    "d_response = agent.invoke(query)\n",
    "print(d_response['output'])"
   ]
  }
 ],
 "metadata": {
  "kernelspec": {
   "display_name": "Python 3",
   "language": "python",
   "name": "python3"
  },
  "language_info": {
   "codemirror_mode": {
    "name": "ipython",
    "version": 3
   },
   "file_extension": ".py",
   "mimetype": "text/x-python",
   "name": "python",
   "nbconvert_exporter": "python",
   "pygments_lexer": "ipython3",
   "version": "3.11.9"
  }
 },
 "nbformat": 4,
 "nbformat_minor": 2
}
